{
 "cells": [
  {
   "cell_type": "markdown",
   "metadata": {},
   "source": [
    "Vietnamese healthcare expenditures prediction based on the number of people in the household,sex,age,, years of education and expenditures on food"
   ]
  },
  {
   "cell_type": "code",
   "execution_count": 123,
   "metadata": {},
   "outputs": [],
   "source": [
    "# import the required libraries\n",
    "import numpy as np\n",
    "import pandas as pd\n",
    "import seaborn as sns\n",
    "import matplotlib.pyplot as plt \n",
    "from sklearn.linear_model import LinearRegression\n",
    "from sklearn.model_selection import train_test_split\n",
    "#\n",
    "from sklearn import metrics\n",
    "from sklearn.metrics import r2_score\n",
    "#\n",
    "from sklearn.preprocessing import OneHotEncoder\n",
    "from sklearn.compose import make_column_transformer\n",
    "from sklearn.pipeline import make_pipeline\n"
   ]
  },
  {
   "cell_type": "markdown",
   "metadata": {},
   "source": [
    "### Data Collect and Analysis"
   ]
  },
  {
   "cell_type": "code",
   "execution_count": 124,
   "metadata": {},
   "outputs": [],
   "source": [
    "df = pd.read_csv(r\"C:\\Users\\ACER\\repos\\week4\\dataset\\VietNamH.csv\")"
   ]
  },
  {
   "cell_type": "code",
   "execution_count": 125,
   "metadata": {},
   "outputs": [
    {
     "data": {
      "text/html": [
       "<div>\n",
       "<style scoped>\n",
       "    .dataframe tbody tr th:only-of-type {\n",
       "        vertical-align: middle;\n",
       "    }\n",
       "\n",
       "    .dataframe tbody tr th {\n",
       "        vertical-align: top;\n",
       "    }\n",
       "\n",
       "    .dataframe thead th {\n",
       "        text-align: right;\n",
       "    }\n",
       "</style>\n",
       "<table border=\"1\" class=\"dataframe\">\n",
       "  <thead>\n",
       "    <tr style=\"text-align: right;\">\n",
       "      <th></th>\n",
       "      <th>Unnamed: 0</th>\n",
       "      <th>sex</th>\n",
       "      <th>age</th>\n",
       "      <th>educyr</th>\n",
       "      <th>farm</th>\n",
       "      <th>urban</th>\n",
       "      <th>hhsize</th>\n",
       "      <th>lntotal</th>\n",
       "      <th>lnmed</th>\n",
       "      <th>lnrlfood</th>\n",
       "      <th>lnexp12m</th>\n",
       "      <th>commune</th>\n",
       "    </tr>\n",
       "  </thead>\n",
       "  <tbody>\n",
       "    <tr>\n",
       "      <th>0</th>\n",
       "      <td>1</td>\n",
       "      <td>female</td>\n",
       "      <td>68</td>\n",
       "      <td>4.0</td>\n",
       "      <td>no</td>\n",
       "      <td>yes</td>\n",
       "      <td>6</td>\n",
       "      <td>10.13649</td>\n",
       "      <td>11.233210</td>\n",
       "      <td>8.639339</td>\n",
       "      <td>11.233210</td>\n",
       "      <td>1</td>\n",
       "    </tr>\n",
       "    <tr>\n",
       "      <th>1</th>\n",
       "      <td>2</td>\n",
       "      <td>female</td>\n",
       "      <td>57</td>\n",
       "      <td>8.0</td>\n",
       "      <td>no</td>\n",
       "      <td>yes</td>\n",
       "      <td>6</td>\n",
       "      <td>10.25206</td>\n",
       "      <td>8.505120</td>\n",
       "      <td>9.345752</td>\n",
       "      <td>8.505120</td>\n",
       "      <td>1</td>\n",
       "    </tr>\n",
       "    <tr>\n",
       "      <th>2</th>\n",
       "      <td>3</td>\n",
       "      <td>male</td>\n",
       "      <td>42</td>\n",
       "      <td>14.0</td>\n",
       "      <td>no</td>\n",
       "      <td>yes</td>\n",
       "      <td>6</td>\n",
       "      <td>10.93231</td>\n",
       "      <td>8.713418</td>\n",
       "      <td>10.226330</td>\n",
       "      <td>8.713418</td>\n",
       "      <td>1</td>\n",
       "    </tr>\n",
       "    <tr>\n",
       "      <th>3</th>\n",
       "      <td>4</td>\n",
       "      <td>female</td>\n",
       "      <td>72</td>\n",
       "      <td>9.0</td>\n",
       "      <td>no</td>\n",
       "      <td>yes</td>\n",
       "      <td>6</td>\n",
       "      <td>10.26749</td>\n",
       "      <td>9.291736</td>\n",
       "      <td>9.263722</td>\n",
       "      <td>9.291736</td>\n",
       "      <td>1</td>\n",
       "    </tr>\n",
       "    <tr>\n",
       "      <th>4</th>\n",
       "      <td>5</td>\n",
       "      <td>female</td>\n",
       "      <td>73</td>\n",
       "      <td>1.0</td>\n",
       "      <td>no</td>\n",
       "      <td>yes</td>\n",
       "      <td>8</td>\n",
       "      <td>10.48811</td>\n",
       "      <td>7.555382</td>\n",
       "      <td>9.592890</td>\n",
       "      <td>7.555382</td>\n",
       "      <td>1</td>\n",
       "    </tr>\n",
       "  </tbody>\n",
       "</table>\n",
       "</div>"
      ],
      "text/plain": [
       "   Unnamed: 0     sex  age  educyr farm urban  hhsize   lntotal      lnmed  \\\n",
       "0           1  female   68     4.0   no   yes       6  10.13649  11.233210   \n",
       "1           2  female   57     8.0   no   yes       6  10.25206   8.505120   \n",
       "2           3    male   42    14.0   no   yes       6  10.93231   8.713418   \n",
       "3           4  female   72     9.0   no   yes       6  10.26749   9.291736   \n",
       "4           5  female   73     1.0   no   yes       8  10.48811   7.555382   \n",
       "\n",
       "    lnrlfood   lnexp12m  commune  \n",
       "0   8.639339  11.233210        1  \n",
       "1   9.345752   8.505120        1  \n",
       "2  10.226330   8.713418        1  \n",
       "3   9.263722   9.291736        1  \n",
       "4   9.592890   7.555382        1  "
      ]
     },
     "execution_count": 125,
     "metadata": {},
     "output_type": "execute_result"
    }
   ],
   "source": [
    "df.head()"
   ]
  },
  {
   "cell_type": "code",
   "execution_count": 126,
   "metadata": {},
   "outputs": [
    {
     "name": "stdout",
     "output_type": "stream",
     "text": [
      "<class 'pandas.core.frame.DataFrame'>\n",
      "RangeIndex: 5999 entries, 0 to 5998\n",
      "Data columns (total 12 columns):\n",
      " #   Column      Non-Null Count  Dtype  \n",
      "---  ------      --------------  -----  \n",
      " 0   Unnamed: 0  5999 non-null   int64  \n",
      " 1   sex         5999 non-null   object \n",
      " 2   age         5999 non-null   int64  \n",
      " 3   educyr      5999 non-null   float64\n",
      " 4   farm        5999 non-null   object \n",
      " 5   urban       5999 non-null   object \n",
      " 6   hhsize      5999 non-null   int64  \n",
      " 7   lntotal     5999 non-null   float64\n",
      " 8   lnmed       5999 non-null   float64\n",
      " 9   lnrlfood    5999 non-null   float64\n",
      " 10  lnexp12m    5006 non-null   float64\n",
      " 11  commune     5999 non-null   int64  \n",
      "dtypes: float64(5), int64(4), object(3)\n",
      "memory usage: 562.5+ KB\n"
     ]
    }
   ],
   "source": [
    "df.info()"
   ]
  },
  {
   "cell_type": "code",
   "execution_count": 127,
   "metadata": {},
   "outputs": [],
   "source": [
    "df = df.loc[:, ~df.columns.str.contains('^Unnamed')]"
   ]
  },
  {
   "cell_type": "code",
   "execution_count": 128,
   "metadata": {},
   "outputs": [
    {
     "data": {
      "text/html": [
       "<div>\n",
       "<style scoped>\n",
       "    .dataframe tbody tr th:only-of-type {\n",
       "        vertical-align: middle;\n",
       "    }\n",
       "\n",
       "    .dataframe tbody tr th {\n",
       "        vertical-align: top;\n",
       "    }\n",
       "\n",
       "    .dataframe thead th {\n",
       "        text-align: right;\n",
       "    }\n",
       "</style>\n",
       "<table border=\"1\" class=\"dataframe\">\n",
       "  <thead>\n",
       "    <tr style=\"text-align: right;\">\n",
       "      <th></th>\n",
       "      <th>sex</th>\n",
       "      <th>age</th>\n",
       "      <th>educyr</th>\n",
       "      <th>farm</th>\n",
       "      <th>urban</th>\n",
       "      <th>hhsize</th>\n",
       "      <th>lntotal</th>\n",
       "      <th>lnmed</th>\n",
       "      <th>lnrlfood</th>\n",
       "      <th>lnexp12m</th>\n",
       "      <th>commune</th>\n",
       "    </tr>\n",
       "  </thead>\n",
       "  <tbody>\n",
       "    <tr>\n",
       "      <th>0</th>\n",
       "      <td>female</td>\n",
       "      <td>68</td>\n",
       "      <td>4.0</td>\n",
       "      <td>no</td>\n",
       "      <td>yes</td>\n",
       "      <td>6</td>\n",
       "      <td>10.13649</td>\n",
       "      <td>11.233210</td>\n",
       "      <td>8.639339</td>\n",
       "      <td>11.233210</td>\n",
       "      <td>1</td>\n",
       "    </tr>\n",
       "    <tr>\n",
       "      <th>1</th>\n",
       "      <td>female</td>\n",
       "      <td>57</td>\n",
       "      <td>8.0</td>\n",
       "      <td>no</td>\n",
       "      <td>yes</td>\n",
       "      <td>6</td>\n",
       "      <td>10.25206</td>\n",
       "      <td>8.505120</td>\n",
       "      <td>9.345752</td>\n",
       "      <td>8.505120</td>\n",
       "      <td>1</td>\n",
       "    </tr>\n",
       "    <tr>\n",
       "      <th>2</th>\n",
       "      <td>male</td>\n",
       "      <td>42</td>\n",
       "      <td>14.0</td>\n",
       "      <td>no</td>\n",
       "      <td>yes</td>\n",
       "      <td>6</td>\n",
       "      <td>10.93231</td>\n",
       "      <td>8.713418</td>\n",
       "      <td>10.226330</td>\n",
       "      <td>8.713418</td>\n",
       "      <td>1</td>\n",
       "    </tr>\n",
       "    <tr>\n",
       "      <th>3</th>\n",
       "      <td>female</td>\n",
       "      <td>72</td>\n",
       "      <td>9.0</td>\n",
       "      <td>no</td>\n",
       "      <td>yes</td>\n",
       "      <td>6</td>\n",
       "      <td>10.26749</td>\n",
       "      <td>9.291736</td>\n",
       "      <td>9.263722</td>\n",
       "      <td>9.291736</td>\n",
       "      <td>1</td>\n",
       "    </tr>\n",
       "    <tr>\n",
       "      <th>4</th>\n",
       "      <td>female</td>\n",
       "      <td>73</td>\n",
       "      <td>1.0</td>\n",
       "      <td>no</td>\n",
       "      <td>yes</td>\n",
       "      <td>8</td>\n",
       "      <td>10.48811</td>\n",
       "      <td>7.555382</td>\n",
       "      <td>9.592890</td>\n",
       "      <td>7.555382</td>\n",
       "      <td>1</td>\n",
       "    </tr>\n",
       "  </tbody>\n",
       "</table>\n",
       "</div>"
      ],
      "text/plain": [
       "      sex  age  educyr farm urban  hhsize   lntotal      lnmed   lnrlfood  \\\n",
       "0  female   68     4.0   no   yes       6  10.13649  11.233210   8.639339   \n",
       "1  female   57     8.0   no   yes       6  10.25206   8.505120   9.345752   \n",
       "2    male   42    14.0   no   yes       6  10.93231   8.713418  10.226330   \n",
       "3  female   72     9.0   no   yes       6  10.26749   9.291736   9.263722   \n",
       "4  female   73     1.0   no   yes       8  10.48811   7.555382   9.592890   \n",
       "\n",
       "    lnexp12m  commune  \n",
       "0  11.233210        1  \n",
       "1   8.505120        1  \n",
       "2   8.713418        1  \n",
       "3   9.291736        1  \n",
       "4   7.555382        1  "
      ]
     },
     "execution_count": 128,
     "metadata": {},
     "output_type": "execute_result"
    }
   ],
   "source": [
    "df.head()"
   ]
  },
  {
   "cell_type": "markdown",
   "metadata": {},
   "source": [
    "### Correlation test "
   ]
  },
  {
   "cell_type": "code",
   "execution_count": 129,
   "metadata": {},
   "outputs": [
    {
     "data": {
      "text/html": [
       "<div>\n",
       "<style scoped>\n",
       "    .dataframe tbody tr th:only-of-type {\n",
       "        vertical-align: middle;\n",
       "    }\n",
       "\n",
       "    .dataframe tbody tr th {\n",
       "        vertical-align: top;\n",
       "    }\n",
       "\n",
       "    .dataframe thead th {\n",
       "        text-align: right;\n",
       "    }\n",
       "</style>\n",
       "<table border=\"1\" class=\"dataframe\">\n",
       "  <thead>\n",
       "    <tr style=\"text-align: right;\">\n",
       "      <th></th>\n",
       "      <th>age</th>\n",
       "      <th>educyr</th>\n",
       "      <th>hhsize</th>\n",
       "      <th>lntotal</th>\n",
       "      <th>lnmed</th>\n",
       "      <th>lnrlfood</th>\n",
       "      <th>lnexp12m</th>\n",
       "      <th>commune</th>\n",
       "    </tr>\n",
       "  </thead>\n",
       "  <tbody>\n",
       "    <tr>\n",
       "      <th>age</th>\n",
       "      <td>1.000000</td>\n",
       "      <td>-0.249509</td>\n",
       "      <td>-0.070427</td>\n",
       "      <td>0.019603</td>\n",
       "      <td>0.053089</td>\n",
       "      <td>-0.007454</td>\n",
       "      <td>0.073460</td>\n",
       "      <td>-0.025023</td>\n",
       "    </tr>\n",
       "    <tr>\n",
       "      <th>educyr</th>\n",
       "      <td>-0.249509</td>\n",
       "      <td>1.000000</td>\n",
       "      <td>-0.006385</td>\n",
       "      <td>0.200411</td>\n",
       "      <td>-0.027569</td>\n",
       "      <td>0.166824</td>\n",
       "      <td>-0.060068</td>\n",
       "      <td>-0.227745</td>\n",
       "    </tr>\n",
       "    <tr>\n",
       "      <th>hhsize</th>\n",
       "      <td>-0.070427</td>\n",
       "      <td>-0.006385</td>\n",
       "      <td>1.000000</td>\n",
       "      <td>0.285064</td>\n",
       "      <td>0.112361</td>\n",
       "      <td>0.361310</td>\n",
       "      <td>0.101208</td>\n",
       "      <td>0.107509</td>\n",
       "    </tr>\n",
       "    <tr>\n",
       "      <th>lntotal</th>\n",
       "      <td>0.019603</td>\n",
       "      <td>0.200411</td>\n",
       "      <td>0.285064</td>\n",
       "      <td>1.000000</td>\n",
       "      <td>0.158454</td>\n",
       "      <td>0.715657</td>\n",
       "      <td>0.165330</td>\n",
       "      <td>-0.159495</td>\n",
       "    </tr>\n",
       "    <tr>\n",
       "      <th>lnmed</th>\n",
       "      <td>0.053089</td>\n",
       "      <td>-0.027569</td>\n",
       "      <td>0.112361</td>\n",
       "      <td>0.158454</td>\n",
       "      <td>1.000000</td>\n",
       "      <td>0.103282</td>\n",
       "      <td>1.000000</td>\n",
       "      <td>0.041012</td>\n",
       "    </tr>\n",
       "    <tr>\n",
       "      <th>lnrlfood</th>\n",
       "      <td>-0.007454</td>\n",
       "      <td>0.166824</td>\n",
       "      <td>0.361310</td>\n",
       "      <td>0.715657</td>\n",
       "      <td>0.103282</td>\n",
       "      <td>1.000000</td>\n",
       "      <td>0.097594</td>\n",
       "      <td>-0.117016</td>\n",
       "    </tr>\n",
       "    <tr>\n",
       "      <th>lnexp12m</th>\n",
       "      <td>0.073460</td>\n",
       "      <td>-0.060068</td>\n",
       "      <td>0.101208</td>\n",
       "      <td>0.165330</td>\n",
       "      <td>1.000000</td>\n",
       "      <td>0.097594</td>\n",
       "      <td>1.000000</td>\n",
       "      <td>0.055711</td>\n",
       "    </tr>\n",
       "    <tr>\n",
       "      <th>commune</th>\n",
       "      <td>-0.025023</td>\n",
       "      <td>-0.227745</td>\n",
       "      <td>0.107509</td>\n",
       "      <td>-0.159495</td>\n",
       "      <td>0.041012</td>\n",
       "      <td>-0.117016</td>\n",
       "      <td>0.055711</td>\n",
       "      <td>1.000000</td>\n",
       "    </tr>\n",
       "  </tbody>\n",
       "</table>\n",
       "</div>"
      ],
      "text/plain": [
       "               age    educyr    hhsize   lntotal     lnmed  lnrlfood  \\\n",
       "age       1.000000 -0.249509 -0.070427  0.019603  0.053089 -0.007454   \n",
       "educyr   -0.249509  1.000000 -0.006385  0.200411 -0.027569  0.166824   \n",
       "hhsize   -0.070427 -0.006385  1.000000  0.285064  0.112361  0.361310   \n",
       "lntotal   0.019603  0.200411  0.285064  1.000000  0.158454  0.715657   \n",
       "lnmed     0.053089 -0.027569  0.112361  0.158454  1.000000  0.103282   \n",
       "lnrlfood -0.007454  0.166824  0.361310  0.715657  0.103282  1.000000   \n",
       "lnexp12m  0.073460 -0.060068  0.101208  0.165330  1.000000  0.097594   \n",
       "commune  -0.025023 -0.227745  0.107509 -0.159495  0.041012 -0.117016   \n",
       "\n",
       "          lnexp12m   commune  \n",
       "age       0.073460 -0.025023  \n",
       "educyr   -0.060068 -0.227745  \n",
       "hhsize    0.101208  0.107509  \n",
       "lntotal   0.165330 -0.159495  \n",
       "lnmed     1.000000  0.041012  \n",
       "lnrlfood  0.097594 -0.117016  \n",
       "lnexp12m  1.000000  0.055711  \n",
       "commune   0.055711  1.000000  "
      ]
     },
     "execution_count": 129,
     "metadata": {},
     "output_type": "execute_result"
    }
   ],
   "source": [
    "# Overall, as kendall correlation, the variable have a weak to moderate correlation with each other\n",
    "# Some have little affection to other variable only\n",
    "df.corr(method='kendall')"
   ]
  },
  {
   "cell_type": "code",
   "execution_count": 130,
   "metadata": {},
   "outputs": [],
   "source": [
    "# Drop lnmed since lnexp12m is the same as lnmed\n",
    "df.drop(\"lnmed\", axis=1, inplace=True)\n",
    "df.drop(\"lntotal\", axis=1, inplace=True)"
   ]
  },
  {
   "cell_type": "code",
   "execution_count": 131,
   "metadata": {},
   "outputs": [
    {
     "data": {
      "text/html": [
       "<div>\n",
       "<style scoped>\n",
       "    .dataframe tbody tr th:only-of-type {\n",
       "        vertical-align: middle;\n",
       "    }\n",
       "\n",
       "    .dataframe tbody tr th {\n",
       "        vertical-align: top;\n",
       "    }\n",
       "\n",
       "    .dataframe thead th {\n",
       "        text-align: right;\n",
       "    }\n",
       "</style>\n",
       "<table border=\"1\" class=\"dataframe\">\n",
       "  <thead>\n",
       "    <tr style=\"text-align: right;\">\n",
       "      <th></th>\n",
       "      <th>sex</th>\n",
       "      <th>age</th>\n",
       "      <th>educyr</th>\n",
       "      <th>farm</th>\n",
       "      <th>urban</th>\n",
       "      <th>hhsize</th>\n",
       "      <th>lnrlfood</th>\n",
       "      <th>lnexp12m</th>\n",
       "      <th>commune</th>\n",
       "    </tr>\n",
       "  </thead>\n",
       "  <tbody>\n",
       "    <tr>\n",
       "      <th>0</th>\n",
       "      <td>female</td>\n",
       "      <td>68</td>\n",
       "      <td>4.0</td>\n",
       "      <td>no</td>\n",
       "      <td>yes</td>\n",
       "      <td>6</td>\n",
       "      <td>8.639339</td>\n",
       "      <td>11.233210</td>\n",
       "      <td>1</td>\n",
       "    </tr>\n",
       "    <tr>\n",
       "      <th>1</th>\n",
       "      <td>female</td>\n",
       "      <td>57</td>\n",
       "      <td>8.0</td>\n",
       "      <td>no</td>\n",
       "      <td>yes</td>\n",
       "      <td>6</td>\n",
       "      <td>9.345752</td>\n",
       "      <td>8.505120</td>\n",
       "      <td>1</td>\n",
       "    </tr>\n",
       "    <tr>\n",
       "      <th>2</th>\n",
       "      <td>male</td>\n",
       "      <td>42</td>\n",
       "      <td>14.0</td>\n",
       "      <td>no</td>\n",
       "      <td>yes</td>\n",
       "      <td>6</td>\n",
       "      <td>10.226330</td>\n",
       "      <td>8.713418</td>\n",
       "      <td>1</td>\n",
       "    </tr>\n",
       "    <tr>\n",
       "      <th>3</th>\n",
       "      <td>female</td>\n",
       "      <td>72</td>\n",
       "      <td>9.0</td>\n",
       "      <td>no</td>\n",
       "      <td>yes</td>\n",
       "      <td>6</td>\n",
       "      <td>9.263722</td>\n",
       "      <td>9.291736</td>\n",
       "      <td>1</td>\n",
       "    </tr>\n",
       "    <tr>\n",
       "      <th>4</th>\n",
       "      <td>female</td>\n",
       "      <td>73</td>\n",
       "      <td>1.0</td>\n",
       "      <td>no</td>\n",
       "      <td>yes</td>\n",
       "      <td>8</td>\n",
       "      <td>9.592890</td>\n",
       "      <td>7.555382</td>\n",
       "      <td>1</td>\n",
       "    </tr>\n",
       "  </tbody>\n",
       "</table>\n",
       "</div>"
      ],
      "text/plain": [
       "      sex  age  educyr farm urban  hhsize   lnrlfood   lnexp12m  commune\n",
       "0  female   68     4.0   no   yes       6   8.639339  11.233210        1\n",
       "1  female   57     8.0   no   yes       6   9.345752   8.505120        1\n",
       "2    male   42    14.0   no   yes       6  10.226330   8.713418        1\n",
       "3  female   72     9.0   no   yes       6   9.263722   9.291736        1\n",
       "4  female   73     1.0   no   yes       8   9.592890   7.555382        1"
      ]
     },
     "execution_count": 131,
     "metadata": {},
     "output_type": "execute_result"
    }
   ],
   "source": [
    "df.head()"
   ]
  },
  {
   "cell_type": "markdown",
   "metadata": {},
   "source": [
    "Transfer from natural log into normal numbers"
   ]
  },
  {
   "cell_type": "code",
   "execution_count": 132,
   "metadata": {},
   "outputs": [],
   "source": [
    "#df['lntotal'] = np.exp(df['lntotal'])\n",
    "df['lnrlfood'] = np.exp(df['lnrlfood'])\n",
    "df['lnexp12m'] = np.exp(df['lnexp12m'])"
   ]
  },
  {
   "cell_type": "code",
   "execution_count": 133,
   "metadata": {},
   "outputs": [
    {
     "data": {
      "text/html": [
       "<div>\n",
       "<style scoped>\n",
       "    .dataframe tbody tr th:only-of-type {\n",
       "        vertical-align: middle;\n",
       "    }\n",
       "\n",
       "    .dataframe tbody tr th {\n",
       "        vertical-align: top;\n",
       "    }\n",
       "\n",
       "    .dataframe thead th {\n",
       "        text-align: right;\n",
       "    }\n",
       "</style>\n",
       "<table border=\"1\" class=\"dataframe\">\n",
       "  <thead>\n",
       "    <tr style=\"text-align: right;\">\n",
       "      <th></th>\n",
       "      <th>sex</th>\n",
       "      <th>age</th>\n",
       "      <th>educyr</th>\n",
       "      <th>farm</th>\n",
       "      <th>urban</th>\n",
       "      <th>hhsize</th>\n",
       "      <th>lnrlfood</th>\n",
       "      <th>lnexp12m</th>\n",
       "      <th>commune</th>\n",
       "    </tr>\n",
       "  </thead>\n",
       "  <tbody>\n",
       "    <tr>\n",
       "      <th>0</th>\n",
       "      <td>female</td>\n",
       "      <td>68</td>\n",
       "      <td>4.0</td>\n",
       "      <td>no</td>\n",
       "      <td>yes</td>\n",
       "      <td>6</td>\n",
       "      <td>5649.594208</td>\n",
       "      <td>75599.881900</td>\n",
       "      <td>1</td>\n",
       "    </tr>\n",
       "    <tr>\n",
       "      <th>1</th>\n",
       "      <td>female</td>\n",
       "      <td>57</td>\n",
       "      <td>8.0</td>\n",
       "      <td>no</td>\n",
       "      <td>yes</td>\n",
       "      <td>6</td>\n",
       "      <td>11450.080047</td>\n",
       "      <td>4939.996986</td>\n",
       "      <td>1</td>\n",
       "    </tr>\n",
       "    <tr>\n",
       "      <th>2</th>\n",
       "      <td>male</td>\n",
       "      <td>42</td>\n",
       "      <td>14.0</td>\n",
       "      <td>no</td>\n",
       "      <td>yes</td>\n",
       "      <td>6</td>\n",
       "      <td>27620.954924</td>\n",
       "      <td>6084.002109</td>\n",
       "      <td>1</td>\n",
       "    </tr>\n",
       "    <tr>\n",
       "      <th>3</th>\n",
       "      <td>female</td>\n",
       "      <td>72</td>\n",
       "      <td>9.0</td>\n",
       "      <td>no</td>\n",
       "      <td>yes</td>\n",
       "      <td>6</td>\n",
       "      <td>10548.321218</td>\n",
       "      <td>10847.999890</td>\n",
       "      <td>1</td>\n",
       "    </tr>\n",
       "    <tr>\n",
       "      <th>4</th>\n",
       "      <td>female</td>\n",
       "      <td>73</td>\n",
       "      <td>1.0</td>\n",
       "      <td>no</td>\n",
       "      <td>yes</td>\n",
       "      <td>8</td>\n",
       "      <td>14660.176281</td>\n",
       "      <td>1911.000107</td>\n",
       "      <td>1</td>\n",
       "    </tr>\n",
       "  </tbody>\n",
       "</table>\n",
       "</div>"
      ],
      "text/plain": [
       "      sex  age  educyr farm urban  hhsize      lnrlfood      lnexp12m  commune\n",
       "0  female   68     4.0   no   yes       6   5649.594208  75599.881900        1\n",
       "1  female   57     8.0   no   yes       6  11450.080047   4939.996986        1\n",
       "2    male   42    14.0   no   yes       6  27620.954924   6084.002109        1\n",
       "3  female   72     9.0   no   yes       6  10548.321218  10847.999890        1\n",
       "4  female   73     1.0   no   yes       8  14660.176281   1911.000107        1"
      ]
     },
     "execution_count": 133,
     "metadata": {},
     "output_type": "execute_result"
    }
   ],
   "source": [
    "df.head()"
   ]
  },
  {
   "cell_type": "code",
   "execution_count": 134,
   "metadata": {},
   "outputs": [
    {
     "data": {
      "text/plain": [
       "sex           0\n",
       "age           0\n",
       "educyr        0\n",
       "farm          0\n",
       "urban         0\n",
       "hhsize        0\n",
       "lnrlfood      0\n",
       "lnexp12m    993\n",
       "commune       0\n",
       "dtype: int64"
      ]
     },
     "execution_count": 134,
     "metadata": {},
     "output_type": "execute_result"
    }
   ],
   "source": [
    "# Checking for missing values \n",
    "df.isna().sum()"
   ]
  },
  {
   "cell_type": "code",
   "execution_count": 135,
   "metadata": {},
   "outputs": [],
   "source": [
    "# remove rows that contain missing value\n",
    "df.dropna(inplace=True)"
   ]
  },
  {
   "cell_type": "code",
   "execution_count": 136,
   "metadata": {},
   "outputs": [
    {
     "data": {
      "text/plain": [
       "sex         0\n",
       "age         0\n",
       "educyr      0\n",
       "farm        0\n",
       "urban       0\n",
       "hhsize      0\n",
       "lnrlfood    0\n",
       "lnexp12m    0\n",
       "commune     0\n",
       "dtype: int64"
      ]
     },
     "execution_count": 136,
     "metadata": {},
     "output_type": "execute_result"
    }
   ],
   "source": [
    "# Recount it\n",
    "df.isna().sum()"
   ]
  },
  {
   "cell_type": "markdown",
   "metadata": {},
   "source": [
    "# categorical feature\n",
    "- sex \n",
    "- urban\n",
    "- farm\n",
    "# numerical feature\n",
    "- age\n",
    "- edcational level\n",
    "- households size\n",
    "- commune\n",
    "- total healthcare expenditure (within 12 months)\n",
    "\n"
   ]
  },
  {
   "cell_type": "code",
   "execution_count": 137,
   "metadata": {},
   "outputs": [
    {
     "data": {
      "text/html": [
       "<div>\n",
       "<style scoped>\n",
       "    .dataframe tbody tr th:only-of-type {\n",
       "        vertical-align: middle;\n",
       "    }\n",
       "\n",
       "    .dataframe tbody tr th {\n",
       "        vertical-align: top;\n",
       "    }\n",
       "\n",
       "    .dataframe thead th {\n",
       "        text-align: right;\n",
       "    }\n",
       "</style>\n",
       "<table border=\"1\" class=\"dataframe\">\n",
       "  <thead>\n",
       "    <tr style=\"text-align: right;\">\n",
       "      <th></th>\n",
       "      <th>age</th>\n",
       "      <th>educyr</th>\n",
       "      <th>hhsize</th>\n",
       "      <th>lnrlfood</th>\n",
       "      <th>lnexp12m</th>\n",
       "      <th>commune</th>\n",
       "    </tr>\n",
       "  </thead>\n",
       "  <tbody>\n",
       "    <tr>\n",
       "      <th>count</th>\n",
       "      <td>5006.000000</td>\n",
       "      <td>5006.000000</td>\n",
       "      <td>5006.000000</td>\n",
       "      <td>5006.000000</td>\n",
       "      <td>5006.000000</td>\n",
       "      <td>5006.000000</td>\n",
       "    </tr>\n",
       "    <tr>\n",
       "      <th>mean</th>\n",
       "      <td>48.061326</td>\n",
       "      <td>7.147956</td>\n",
       "      <td>4.832601</td>\n",
       "      <td>6893.455164</td>\n",
       "      <td>1821.662731</td>\n",
       "      <td>98.354375</td>\n",
       "    </tr>\n",
       "    <tr>\n",
       "      <th>std</th>\n",
       "      <td>13.799739</td>\n",
       "      <td>4.333304</td>\n",
       "      <td>1.952570</td>\n",
       "      <td>4192.871227</td>\n",
       "      <td>5577.654948</td>\n",
       "      <td>56.054233</td>\n",
       "    </tr>\n",
       "    <tr>\n",
       "      <th>min</th>\n",
       "      <td>18.000000</td>\n",
       "      <td>0.000000</td>\n",
       "      <td>1.000000</td>\n",
       "      <td>576.147670</td>\n",
       "      <td>1.000000</td>\n",
       "      <td>1.000000</td>\n",
       "    </tr>\n",
       "    <tr>\n",
       "      <th>25%</th>\n",
       "      <td>37.000000</td>\n",
       "      <td>4.000000</td>\n",
       "      <td>4.000000</td>\n",
       "      <td>4430.302976</td>\n",
       "      <td>195.000086</td>\n",
       "      <td>50.000000</td>\n",
       "    </tr>\n",
       "    <tr>\n",
       "      <th>50%</th>\n",
       "      <td>45.000000</td>\n",
       "      <td>7.000000</td>\n",
       "      <td>5.000000</td>\n",
       "      <td>6071.169451</td>\n",
       "      <td>585.000089</td>\n",
       "      <td>99.000000</td>\n",
       "    </tr>\n",
       "    <tr>\n",
       "      <th>75%</th>\n",
       "      <td>58.750000</td>\n",
       "      <td>10.000000</td>\n",
       "      <td>6.000000</td>\n",
       "      <td>8247.414479</td>\n",
       "      <td>1623.000815</td>\n",
       "      <td>147.000000</td>\n",
       "    </tr>\n",
       "    <tr>\n",
       "      <th>max</th>\n",
       "      <td>95.000000</td>\n",
       "      <td>21.000000</td>\n",
       "      <td>19.000000</td>\n",
       "      <td>87890.763630</td>\n",
       "      <td>234040.627251</td>\n",
       "      <td>194.000000</td>\n",
       "    </tr>\n",
       "  </tbody>\n",
       "</table>\n",
       "</div>"
      ],
      "text/plain": [
       "               age       educyr       hhsize      lnrlfood       lnexp12m  \\\n",
       "count  5006.000000  5006.000000  5006.000000   5006.000000    5006.000000   \n",
       "mean     48.061326     7.147956     4.832601   6893.455164    1821.662731   \n",
       "std      13.799739     4.333304     1.952570   4192.871227    5577.654948   \n",
       "min      18.000000     0.000000     1.000000    576.147670       1.000000   \n",
       "25%      37.000000     4.000000     4.000000   4430.302976     195.000086   \n",
       "50%      45.000000     7.000000     5.000000   6071.169451     585.000089   \n",
       "75%      58.750000    10.000000     6.000000   8247.414479    1623.000815   \n",
       "max      95.000000    21.000000    19.000000  87890.763630  234040.627251   \n",
       "\n",
       "           commune  \n",
       "count  5006.000000  \n",
       "mean     98.354375  \n",
       "std      56.054233  \n",
       "min       1.000000  \n",
       "25%      50.000000  \n",
       "50%      99.000000  \n",
       "75%     147.000000  \n",
       "max     194.000000  "
      ]
     },
     "execution_count": 137,
     "metadata": {},
     "output_type": "execute_result"
    }
   ],
   "source": [
    "df.describe()"
   ]
  },
  {
   "cell_type": "code",
   "execution_count": 138,
   "metadata": {},
   "outputs": [],
   "source": [
    "# Rename column (change from natural log data to natural data)\n",
    "df.rename(columns = {'lnrlfood':'rlfood', 'lnexp12m':'exp12m', 'lntotal':'total','lnmed':'med'}, inplace = True)\n"
   ]
  },
  {
   "cell_type": "code",
   "execution_count": 139,
   "metadata": {},
   "outputs": [
    {
     "data": {
      "text/html": [
       "<div>\n",
       "<style scoped>\n",
       "    .dataframe tbody tr th:only-of-type {\n",
       "        vertical-align: middle;\n",
       "    }\n",
       "\n",
       "    .dataframe tbody tr th {\n",
       "        vertical-align: top;\n",
       "    }\n",
       "\n",
       "    .dataframe thead th {\n",
       "        text-align: right;\n",
       "    }\n",
       "</style>\n",
       "<table border=\"1\" class=\"dataframe\">\n",
       "  <thead>\n",
       "    <tr style=\"text-align: right;\">\n",
       "      <th></th>\n",
       "      <th>sex</th>\n",
       "      <th>age</th>\n",
       "      <th>educyr</th>\n",
       "      <th>farm</th>\n",
       "      <th>urban</th>\n",
       "      <th>hhsize</th>\n",
       "      <th>rlfood</th>\n",
       "      <th>exp12m</th>\n",
       "      <th>commune</th>\n",
       "    </tr>\n",
       "  </thead>\n",
       "  <tbody>\n",
       "    <tr>\n",
       "      <th>0</th>\n",
       "      <td>female</td>\n",
       "      <td>68</td>\n",
       "      <td>4.0</td>\n",
       "      <td>no</td>\n",
       "      <td>yes</td>\n",
       "      <td>6</td>\n",
       "      <td>5649.594208</td>\n",
       "      <td>75599.881900</td>\n",
       "      <td>1</td>\n",
       "    </tr>\n",
       "    <tr>\n",
       "      <th>1</th>\n",
       "      <td>female</td>\n",
       "      <td>57</td>\n",
       "      <td>8.0</td>\n",
       "      <td>no</td>\n",
       "      <td>yes</td>\n",
       "      <td>6</td>\n",
       "      <td>11450.080047</td>\n",
       "      <td>4939.996986</td>\n",
       "      <td>1</td>\n",
       "    </tr>\n",
       "    <tr>\n",
       "      <th>2</th>\n",
       "      <td>male</td>\n",
       "      <td>42</td>\n",
       "      <td>14.0</td>\n",
       "      <td>no</td>\n",
       "      <td>yes</td>\n",
       "      <td>6</td>\n",
       "      <td>27620.954924</td>\n",
       "      <td>6084.002109</td>\n",
       "      <td>1</td>\n",
       "    </tr>\n",
       "    <tr>\n",
       "      <th>3</th>\n",
       "      <td>female</td>\n",
       "      <td>72</td>\n",
       "      <td>9.0</td>\n",
       "      <td>no</td>\n",
       "      <td>yes</td>\n",
       "      <td>6</td>\n",
       "      <td>10548.321218</td>\n",
       "      <td>10847.999890</td>\n",
       "      <td>1</td>\n",
       "    </tr>\n",
       "    <tr>\n",
       "      <th>4</th>\n",
       "      <td>female</td>\n",
       "      <td>73</td>\n",
       "      <td>1.0</td>\n",
       "      <td>no</td>\n",
       "      <td>yes</td>\n",
       "      <td>8</td>\n",
       "      <td>14660.176281</td>\n",
       "      <td>1911.000107</td>\n",
       "      <td>1</td>\n",
       "    </tr>\n",
       "  </tbody>\n",
       "</table>\n",
       "</div>"
      ],
      "text/plain": [
       "      sex  age  educyr farm urban  hhsize        rlfood        exp12m  commune\n",
       "0  female   68     4.0   no   yes       6   5649.594208  75599.881900        1\n",
       "1  female   57     8.0   no   yes       6  11450.080047   4939.996986        1\n",
       "2    male   42    14.0   no   yes       6  27620.954924   6084.002109        1\n",
       "3  female   72     9.0   no   yes       6  10548.321218  10847.999890        1\n",
       "4  female   73     1.0   no   yes       8  14660.176281   1911.000107        1"
      ]
     },
     "execution_count": 139,
     "metadata": {},
     "output_type": "execute_result"
    }
   ],
   "source": [
    "df.head()"
   ]
  },
  {
   "cell_type": "code",
   "execution_count": 140,
   "metadata": {},
   "outputs": [
    {
     "data": {
      "text/plain": [
       "<Figure size 432x432 with 0 Axes>"
      ]
     },
     "metadata": {},
     "output_type": "display_data"
    },
    {
     "data": {
      "image/png": "[encoded data removed]",
      "text/plain": [
       "<Figure size 360x360 with 1 Axes>"
      ]
     },
     "metadata": {},
     "output_type": "display_data"
    }
   ],
   "source": [
    "# distribution of age avlue\n",
    "sns.set()\n",
    "plt.figure(figsize =(6,6))\n",
    "sns.displot(df['age'])\n",
    "plt.title('Age dist ')\n",
    "plt.show()"
   ]
  },
  {
   "cell_type": "markdown",
   "metadata": {},
   "source": [
    "approximate age is 40 "
   ]
  },
  {
   "cell_type": "code",
   "execution_count": 141,
   "metadata": {},
   "outputs": [
    {
     "data": {
      "image/png": "[encoded data removed]",
      "text/plain": [
       "<Figure size 432x432 with 1 Axes>"
      ]
     },
     "metadata": {},
     "output_type": "display_data"
    }
   ],
   "source": [
    "# Gender columns\n",
    "plt.figure(figsize =(6,6))\n",
    "sns.countplot(x='sex', data = df)\n",
    "plt.title('Sex Dist')\n",
    "plt.show()"
   ]
  },
  {
   "cell_type": "code",
   "execution_count": 142,
   "metadata": {},
   "outputs": [
    {
     "data": {
      "text/plain": [
       "male      3656\n",
       "female    1350\n",
       "Name: sex, dtype: int64"
      ]
     },
     "execution_count": 142,
     "metadata": {},
     "output_type": "execute_result"
    }
   ],
   "source": [
    "df['sex'].value_counts()\n"
   ]
  },
  {
   "cell_type": "code",
   "execution_count": 143,
   "metadata": {},
   "outputs": [
    {
     "data": {
      "image/png": "[encoded data removed]",
      "text/plain": [
       "<Figure size 576x720 with 3 Axes>"
      ]
     },
     "metadata": {},
     "output_type": "display_data"
    }
   ],
   "source": [
    "ax = df.hist(column='rlfood', bins=25, grid=False, figsize=(8,10), layout=(3,1), sharex=True, color='#86bf91', zorder=2, rwidth=0.9)\n"
   ]
  },
  {
   "cell_type": "code",
   "execution_count": 144,
   "metadata": {},
   "outputs": [
    {
     "data": {
      "image/png": "[encoded data removed]",
      "text/plain": [
       "<Figure size 432x432 with 1 Axes>"
      ]
     },
     "metadata": {},
     "output_type": "display_data"
    }
   ],
   "source": [
    "# households size column\n",
    "plt.figure(figsize=(6,6))\n",
    "sns.countplot(x='hhsize', data = df)\n",
    "plt.title('households size distribution')\n",
    "plt.show()"
   ]
  },
  {
   "cell_type": "code",
   "execution_count": 145,
   "metadata": {},
   "outputs": [
    {
     "data": {
      "text/plain": [
       "4     1183\n",
       "5     1109\n",
       "6      750\n",
       "3      584\n",
       "7      402\n",
       "2      392\n",
       "8      227\n",
       "1      146\n",
       "9      112\n",
       "10      56\n",
       "11      27\n",
       "12       9\n",
       "14       4\n",
       "13       3\n",
       "19       1\n",
       "16       1\n",
       "Name: hhsize, dtype: int64"
      ]
     },
     "execution_count": 145,
     "metadata": {},
     "output_type": "execute_result"
    }
   ],
   "source": [
    "df['hhsize'].value_counts()"
   ]
  },
  {
   "cell_type": "code",
   "execution_count": 146,
   "metadata": {},
   "outputs": [
    {
     "data": {
      "image/png": "[encoded data removed]",
      "text/plain": [
       "<Figure size 1080x720 with 1 Axes>"
      ]
     },
     "metadata": {},
     "output_type": "display_data"
    }
   ],
   "source": [
    "# Education level distribution\n",
    "plt.figure(figsize=(15,10))\n",
    "sns.countplot(x='educyr', data = df)\n",
    "plt.title(' education level distribution')\n",
    "plt.show()\n"
   ]
  },
  {
   "cell_type": "code",
   "execution_count": 147,
   "metadata": {},
   "outputs": [
    {
     "data": {
      "image/png": "[encoded data removed]",
      "text/plain": [
       "<Figure size 432x432 with 1 Axes>"
      ]
     },
     "metadata": {},
     "output_type": "display_data"
    }
   ],
   "source": [
    "# Urban checker column \n",
    "# Assume non-urban citizen as countryside citizen \n",
    "plt.figure(figsize=(6,6))\n",
    "sns.countplot(x='urban', data = df)\n",
    "plt.title(' urban column')\n",
    "plt.show()\n",
    "\n",
    "\n"
   ]
  },
  {
   "cell_type": "code",
   "execution_count": 148,
   "metadata": {},
   "outputs": [
    {
     "data": {
      "text/plain": [
       "no     3544\n",
       "yes    1462\n",
       "Name: urban, dtype: int64"
      ]
     },
     "execution_count": 148,
     "metadata": {},
     "output_type": "execute_result"
    }
   ],
   "source": [
    "df['urban'].value_counts()"
   ]
  },
  {
   "cell_type": "code",
   "execution_count": 149,
   "metadata": {},
   "outputs": [
    {
     "data": {
      "image/png": "[encoded data removed]",
      "text/plain": [
       "<Figure size 864x576 with 1 Axes>"
      ]
     },
     "metadata": {},
     "output_type": "display_data"
    }
   ],
   "source": [
    "\n",
    "ax = df.hist(column='exp12m', bins=100, grid=False, figsize=(12,8), color='#86bf91', zorder=2, rwidth=0.9)\n"
   ]
  },
  {
   "cell_type": "markdown",
   "metadata": {},
   "source": [
    "Data Pre-Processing\n"
   ]
  },
  {
   "cell_type": "code",
   "execution_count": 150,
   "metadata": {},
   "outputs": [],
   "source": [
    "df.to_csv(\"clean_model.csv\")"
   ]
  },
  {
   "cell_type": "code",
   "execution_count": 151,
   "metadata": {},
   "outputs": [],
   "source": [
    "# convert categorical value into 0, 1 or 2\n",
    "# encoding sex column\n",
    "df.replace({'sex':{'male':0,'female':1}}, inplace = True)\n",
    "# encoding urban column\n",
    "df.replace({'urban':{'yes':0,'no':1}}, inplace = True)\n",
    "# encoding farm column\n",
    "df.replace({'farm':{'yes':0,'no':1}}, inplace = True)\n"
   ]
  },
  {
   "cell_type": "code",
   "execution_count": 152,
   "metadata": {},
   "outputs": [
    {
     "data": {
      "text/html": [
       "<div>\n",
       "<style scoped>\n",
       "    .dataframe tbody tr th:only-of-type {\n",
       "        vertical-align: middle;\n",
       "    }\n",
       "\n",
       "    .dataframe tbody tr th {\n",
       "        vertical-align: top;\n",
       "    }\n",
       "\n",
       "    .dataframe thead th {\n",
       "        text-align: right;\n",
       "    }\n",
       "</style>\n",
       "<table border=\"1\" class=\"dataframe\">\n",
       "  <thead>\n",
       "    <tr style=\"text-align: right;\">\n",
       "      <th></th>\n",
       "      <th>sex</th>\n",
       "      <th>age</th>\n",
       "      <th>educyr</th>\n",
       "      <th>farm</th>\n",
       "      <th>urban</th>\n",
       "      <th>hhsize</th>\n",
       "      <th>rlfood</th>\n",
       "      <th>exp12m</th>\n",
       "      <th>commune</th>\n",
       "    </tr>\n",
       "  </thead>\n",
       "  <tbody>\n",
       "    <tr>\n",
       "      <th>0</th>\n",
       "      <td>1</td>\n",
       "      <td>68</td>\n",
       "      <td>4.0</td>\n",
       "      <td>1</td>\n",
       "      <td>0</td>\n",
       "      <td>6</td>\n",
       "      <td>5649.594208</td>\n",
       "      <td>75599.881900</td>\n",
       "      <td>1</td>\n",
       "    </tr>\n",
       "    <tr>\n",
       "      <th>1</th>\n",
       "      <td>1</td>\n",
       "      <td>57</td>\n",
       "      <td>8.0</td>\n",
       "      <td>1</td>\n",
       "      <td>0</td>\n",
       "      <td>6</td>\n",
       "      <td>11450.080047</td>\n",
       "      <td>4939.996986</td>\n",
       "      <td>1</td>\n",
       "    </tr>\n",
       "    <tr>\n",
       "      <th>2</th>\n",
       "      <td>0</td>\n",
       "      <td>42</td>\n",
       "      <td>14.0</td>\n",
       "      <td>1</td>\n",
       "      <td>0</td>\n",
       "      <td>6</td>\n",
       "      <td>27620.954924</td>\n",
       "      <td>6084.002109</td>\n",
       "      <td>1</td>\n",
       "    </tr>\n",
       "    <tr>\n",
       "      <th>3</th>\n",
       "      <td>1</td>\n",
       "      <td>72</td>\n",
       "      <td>9.0</td>\n",
       "      <td>1</td>\n",
       "      <td>0</td>\n",
       "      <td>6</td>\n",
       "      <td>10548.321218</td>\n",
       "      <td>10847.999890</td>\n",
       "      <td>1</td>\n",
       "    </tr>\n",
       "    <tr>\n",
       "      <th>4</th>\n",
       "      <td>1</td>\n",
       "      <td>73</td>\n",
       "      <td>1.0</td>\n",
       "      <td>1</td>\n",
       "      <td>0</td>\n",
       "      <td>8</td>\n",
       "      <td>14660.176281</td>\n",
       "      <td>1911.000107</td>\n",
       "      <td>1</td>\n",
       "    </tr>\n",
       "  </tbody>\n",
       "</table>\n",
       "</div>"
      ],
      "text/plain": [
       "   sex  age  educyr  farm  urban  hhsize        rlfood        exp12m  commune\n",
       "0    1   68     4.0     1      0       6   5649.594208  75599.881900        1\n",
       "1    1   57     8.0     1      0       6  11450.080047   4939.996986        1\n",
       "2    0   42    14.0     1      0       6  27620.954924   6084.002109        1\n",
       "3    1   72     9.0     1      0       6  10548.321218  10847.999890        1\n",
       "4    1   73     1.0     1      0       8  14660.176281   1911.000107        1"
      ]
     },
     "execution_count": 152,
     "metadata": {},
     "output_type": "execute_result"
    }
   ],
   "source": [
    "df.head()"
   ]
  },
  {
   "cell_type": "code",
   "execution_count": 153,
   "metadata": {},
   "outputs": [],
   "source": [
    "y = df['exp12m']\n",
    "x = df.drop(columns ='exp12m', axis = 1)\n"
   ]
  },
  {
   "cell_type": "markdown",
   "metadata": {},
   "source": [
    "### Splitting data into Training data & Testing data"
   ]
  },
  {
   "cell_type": "code",
   "execution_count": 154,
   "metadata": {},
   "outputs": [],
   "source": [
    "x_train, x_test, y_train,y_test = train_test_split(x,y, test_size = 0.2, random_state=2)"
   ]
  },
  {
   "cell_type": "code",
   "execution_count": 155,
   "metadata": {},
   "outputs": [
    {
     "name": "stdout",
     "output_type": "stream",
     "text": [
      "(5006, 8) (4004, 8) (1002, 8)\n"
     ]
    }
   ],
   "source": [
    "print(x.shape,x_train.shape,x_test.shape)"
   ]
  },
  {
   "cell_type": "markdown",
   "metadata": {},
   "source": [
    "### Model Training\n",
    "#### Using linear REgression\n"
   ]
  },
  {
   "cell_type": "code",
   "execution_count": 156,
   "metadata": {},
   "outputs": [],
   "source": [
    "# Loading regressing model\n",
    "regressor = LinearRegression()"
   ]
  },
  {
   "cell_type": "code",
   "execution_count": 157,
   "metadata": {},
   "outputs": [
    {
     "data": {
      "text/plain": [
       "LinearRegression()"
      ]
     },
     "execution_count": 157,
     "metadata": {},
     "output_type": "execute_result"
    }
   ],
   "source": [
    "regressor.fit(x_train, y_train)"
   ]
  },
  {
   "cell_type": "markdown",
   "metadata": {},
   "source": [
    "### Model Evaluation"
   ]
  },
  {
   "cell_type": "code",
   "execution_count": 158,
   "metadata": {},
   "outputs": [],
   "source": [
    "# Predictiong on training data\n",
    "training_data_prediction = regressor.predict(x_train)"
   ]
  },
  {
   "cell_type": "code",
   "execution_count": 159,
   "metadata": {},
   "outputs": [
    {
     "name": "stdout",
     "output_type": "stream",
     "text": [
      "R2 value:  0.018259106854840446\n"
     ]
    }
   ],
   "source": [
    "# R squared value \n",
    "r2_train = metrics.r2_score(y_train, training_data_prediction)\n",
    "print('R2 value: ', r2_train)"
   ]
  },
  {
   "cell_type": "code",
   "execution_count": 160,
   "metadata": {},
   "outputs": [],
   "source": [
    "# Prediction test data\n",
    "test_data_prediction = regressor.predict(x_test)"
   ]
  },
  {
   "cell_type": "code",
   "execution_count": 161,
   "metadata": {},
   "outputs": [
    {
     "name": "stdout",
     "output_type": "stream",
     "text": [
      "R2 val: 0.030260356380884756\n"
     ]
    }
   ],
   "source": [
    "# r2 value\n",
    "r2_test = metrics.r2_score(y_test,test_data_prediction)\n",
    "print('R2 val:', r2_test)\n"
   ]
  },
  {
   "cell_type": "markdown",
   "metadata": {},
   "source": [
    "### Test Predicting"
   ]
  },
  {
   "cell_type": "code",
   "execution_count": 162,
   "metadata": {},
   "outputs": [
    {
     "data": {
      "text/plain": [
       "'\\n# Test 1 \\n# near (200 value difference)\\ninput_data = (\"0\",66,2,\"0\",\"0\",6,7.707512)\\narray_input = np.asarray(input_data)\\n\\n# Reshape the array \\n\\nreshaped_array_input = array_input.reshape(1,-1)\\n\\nprediction = regressor.predict(reshaped_array_input)\\nprint(prediction)\\n'"
      ]
     },
     "execution_count": 162,
     "metadata": {},
     "output_type": "execute_result"
    }
   ],
   "source": [
    "'''\n",
    "# Test 1 \n",
    "# near (200 value difference)\n",
    "input_data = (\"0\",66,2,\"0\",\"0\",6,7.707512)\n",
    "array_input = np.asarray(input_data)\n",
    "\n",
    "# Reshape the array \n",
    "\n",
    "reshaped_array_input = array_input.reshape(1,-1)\n",
    "\n",
    "prediction = regressor.predict(reshaped_array_input)\n",
    "print(prediction)\n",
    "'''"
   ]
  },
  {
   "cell_type": "code",
   "execution_count": 163,
   "metadata": {},
   "outputs": [
    {
     "data": {
      "text/plain": [
       "'\\n# test 2 \\n# not accurate, further result compare to test one \\ninput2 = (\"0\",33,4,\"1\",\"0\",3,8.850887)\\narray_input = np.asarray(input2)\\n\\n# Reshape the array \\n\\nreshaped_array_input = array_input.reshape(1,-1)\\n\\nprediction = regressor.predict(reshaped_array_input)\\nprint(prediction)\\n'"
      ]
     },
     "execution_count": 163,
     "metadata": {},
     "output_type": "execute_result"
    }
   ],
   "source": [
    "'''\n",
    "# test 2 \n",
    "# not accurate, further result compare to test one \n",
    "input2 = (\"0\",33,4,\"1\",\"0\",3,8.850887)\n",
    "array_input = np.asarray(input2)\n",
    "\n",
    "# Reshape the array \n",
    "\n",
    "reshaped_array_input = array_input.reshape(1,-1)\n",
    "\n",
    "prediction = regressor.predict(reshaped_array_input)\n",
    "print(prediction)\n",
    "'''"
   ]
  },
  {
   "cell_type": "markdown",
   "metadata": {},
   "source": [
    "## Apply Pipe\n"
   ]
  },
  {
   "cell_type": "markdown",
   "metadata": {},
   "source": []
  },
  {
   "cell_type": "code",
   "execution_count": 164,
   "metadata": {},
   "outputs": [
    {
     "data": {
      "text/html": [
       "<div>\n",
       "<style scoped>\n",
       "    .dataframe tbody tr th:only-of-type {\n",
       "        vertical-align: middle;\n",
       "    }\n",
       "\n",
       "    .dataframe tbody tr th {\n",
       "        vertical-align: top;\n",
       "    }\n",
       "\n",
       "    .dataframe thead th {\n",
       "        text-align: right;\n",
       "    }\n",
       "</style>\n",
       "<table border=\"1\" class=\"dataframe\">\n",
       "  <thead>\n",
       "    <tr style=\"text-align: right;\">\n",
       "      <th></th>\n",
       "      <th>sex</th>\n",
       "      <th>age</th>\n",
       "      <th>educyr</th>\n",
       "      <th>farm</th>\n",
       "      <th>urban</th>\n",
       "      <th>hhsize</th>\n",
       "      <th>rlfood</th>\n",
       "      <th>commune</th>\n",
       "    </tr>\n",
       "  </thead>\n",
       "  <tbody>\n",
       "    <tr>\n",
       "      <th>0</th>\n",
       "      <td>1</td>\n",
       "      <td>68</td>\n",
       "      <td>4.0</td>\n",
       "      <td>1</td>\n",
       "      <td>0</td>\n",
       "      <td>6</td>\n",
       "      <td>5649.594208</td>\n",
       "      <td>1</td>\n",
       "    </tr>\n",
       "    <tr>\n",
       "      <th>1</th>\n",
       "      <td>1</td>\n",
       "      <td>57</td>\n",
       "      <td>8.0</td>\n",
       "      <td>1</td>\n",
       "      <td>0</td>\n",
       "      <td>6</td>\n",
       "      <td>11450.080047</td>\n",
       "      <td>1</td>\n",
       "    </tr>\n",
       "    <tr>\n",
       "      <th>2</th>\n",
       "      <td>0</td>\n",
       "      <td>42</td>\n",
       "      <td>14.0</td>\n",
       "      <td>1</td>\n",
       "      <td>0</td>\n",
       "      <td>6</td>\n",
       "      <td>27620.954924</td>\n",
       "      <td>1</td>\n",
       "    </tr>\n",
       "    <tr>\n",
       "      <th>3</th>\n",
       "      <td>1</td>\n",
       "      <td>72</td>\n",
       "      <td>9.0</td>\n",
       "      <td>1</td>\n",
       "      <td>0</td>\n",
       "      <td>6</td>\n",
       "      <td>10548.321218</td>\n",
       "      <td>1</td>\n",
       "    </tr>\n",
       "    <tr>\n",
       "      <th>4</th>\n",
       "      <td>1</td>\n",
       "      <td>73</td>\n",
       "      <td>1.0</td>\n",
       "      <td>1</td>\n",
       "      <td>0</td>\n",
       "      <td>8</td>\n",
       "      <td>14660.176281</td>\n",
       "      <td>1</td>\n",
       "    </tr>\n",
       "    <tr>\n",
       "      <th>...</th>\n",
       "      <td>...</td>\n",
       "      <td>...</td>\n",
       "      <td>...</td>\n",
       "      <td>...</td>\n",
       "      <td>...</td>\n",
       "      <td>...</td>\n",
       "      <td>...</td>\n",
       "      <td>...</td>\n",
       "    </tr>\n",
       "    <tr>\n",
       "      <th>5993</th>\n",
       "      <td>0</td>\n",
       "      <td>76</td>\n",
       "      <td>2.0</td>\n",
       "      <td>0</td>\n",
       "      <td>1</td>\n",
       "      <td>4</td>\n",
       "      <td>5340.299412</td>\n",
       "      <td>194</td>\n",
       "    </tr>\n",
       "    <tr>\n",
       "      <th>5994</th>\n",
       "      <td>0</td>\n",
       "      <td>48</td>\n",
       "      <td>6.0</td>\n",
       "      <td>0</td>\n",
       "      <td>1</td>\n",
       "      <td>9</td>\n",
       "      <td>9228.031197</td>\n",
       "      <td>194</td>\n",
       "    </tr>\n",
       "    <tr>\n",
       "      <th>5995</th>\n",
       "      <td>0</td>\n",
       "      <td>21</td>\n",
       "      <td>0.0</td>\n",
       "      <td>1</td>\n",
       "      <td>1</td>\n",
       "      <td>3</td>\n",
       "      <td>3826.052990</td>\n",
       "      <td>194</td>\n",
       "    </tr>\n",
       "    <tr>\n",
       "      <th>5996</th>\n",
       "      <td>0</td>\n",
       "      <td>37</td>\n",
       "      <td>4.0</td>\n",
       "      <td>0</td>\n",
       "      <td>1</td>\n",
       "      <td>8</td>\n",
       "      <td>5211.739728</td>\n",
       "      <td>194</td>\n",
       "    </tr>\n",
       "    <tr>\n",
       "      <th>5997</th>\n",
       "      <td>0</td>\n",
       "      <td>42</td>\n",
       "      <td>8.0</td>\n",
       "      <td>0</td>\n",
       "      <td>1</td>\n",
       "      <td>6</td>\n",
       "      <td>7037.413633</td>\n",
       "      <td>194</td>\n",
       "    </tr>\n",
       "  </tbody>\n",
       "</table>\n",
       "<p>5006 rows × 8 columns</p>\n",
       "</div>"
      ],
      "text/plain": [
       "      sex  age  educyr  farm  urban  hhsize        rlfood  commune\n",
       "0       1   68     4.0     1      0       6   5649.594208        1\n",
       "1       1   57     8.0     1      0       6  11450.080047        1\n",
       "2       0   42    14.0     1      0       6  27620.954924        1\n",
       "3       1   72     9.0     1      0       6  10548.321218        1\n",
       "4       1   73     1.0     1      0       8  14660.176281        1\n",
       "...   ...  ...     ...   ...    ...     ...           ...      ...\n",
       "5993    0   76     2.0     0      1       4   5340.299412      194\n",
       "5994    0   48     6.0     0      1       9   9228.031197      194\n",
       "5995    0   21     0.0     1      1       3   3826.052990      194\n",
       "5996    0   37     4.0     0      1       8   5211.739728      194\n",
       "5997    0   42     8.0     0      1       6   7037.413633      194\n",
       "\n",
       "[5006 rows x 8 columns]"
      ]
     },
     "execution_count": 164,
     "metadata": {},
     "output_type": "execute_result"
    }
   ],
   "source": [
    "x"
   ]
  },
  {
   "cell_type": "code",
   "execution_count": 165,
   "metadata": {},
   "outputs": [],
   "source": [
    "x.replace({'sex':{0:\"male\",1:'female'}}, inplace = True)\n",
    "x.replace({'urban':{0:'yes',1:'no'}}, inplace = True)\n"
   ]
  },
  {
   "cell_type": "code",
   "execution_count": 166,
   "metadata": {},
   "outputs": [
    {
     "data": {
      "text/html": [
       "<div>\n",
       "<style scoped>\n",
       "    .dataframe tbody tr th:only-of-type {\n",
       "        vertical-align: middle;\n",
       "    }\n",
       "\n",
       "    .dataframe tbody tr th {\n",
       "        vertical-align: top;\n",
       "    }\n",
       "\n",
       "    .dataframe thead th {\n",
       "        text-align: right;\n",
       "    }\n",
       "</style>\n",
       "<table border=\"1\" class=\"dataframe\">\n",
       "  <thead>\n",
       "    <tr style=\"text-align: right;\">\n",
       "      <th></th>\n",
       "      <th>sex</th>\n",
       "      <th>age</th>\n",
       "      <th>educyr</th>\n",
       "      <th>farm</th>\n",
       "      <th>urban</th>\n",
       "      <th>hhsize</th>\n",
       "      <th>rlfood</th>\n",
       "      <th>commune</th>\n",
       "    </tr>\n",
       "  </thead>\n",
       "  <tbody>\n",
       "    <tr>\n",
       "      <th>0</th>\n",
       "      <td>female</td>\n",
       "      <td>68</td>\n",
       "      <td>4.0</td>\n",
       "      <td>1</td>\n",
       "      <td>yes</td>\n",
       "      <td>6</td>\n",
       "      <td>5649.594208</td>\n",
       "      <td>1</td>\n",
       "    </tr>\n",
       "    <tr>\n",
       "      <th>1</th>\n",
       "      <td>female</td>\n",
       "      <td>57</td>\n",
       "      <td>8.0</td>\n",
       "      <td>1</td>\n",
       "      <td>yes</td>\n",
       "      <td>6</td>\n",
       "      <td>11450.080047</td>\n",
       "      <td>1</td>\n",
       "    </tr>\n",
       "    <tr>\n",
       "      <th>2</th>\n",
       "      <td>male</td>\n",
       "      <td>42</td>\n",
       "      <td>14.0</td>\n",
       "      <td>1</td>\n",
       "      <td>yes</td>\n",
       "      <td>6</td>\n",
       "      <td>27620.954924</td>\n",
       "      <td>1</td>\n",
       "    </tr>\n",
       "    <tr>\n",
       "      <th>3</th>\n",
       "      <td>female</td>\n",
       "      <td>72</td>\n",
       "      <td>9.0</td>\n",
       "      <td>1</td>\n",
       "      <td>yes</td>\n",
       "      <td>6</td>\n",
       "      <td>10548.321218</td>\n",
       "      <td>1</td>\n",
       "    </tr>\n",
       "    <tr>\n",
       "      <th>4</th>\n",
       "      <td>female</td>\n",
       "      <td>73</td>\n",
       "      <td>1.0</td>\n",
       "      <td>1</td>\n",
       "      <td>yes</td>\n",
       "      <td>8</td>\n",
       "      <td>14660.176281</td>\n",
       "      <td>1</td>\n",
       "    </tr>\n",
       "  </tbody>\n",
       "</table>\n",
       "</div>"
      ],
      "text/plain": [
       "      sex  age  educyr  farm urban  hhsize        rlfood  commune\n",
       "0  female   68     4.0     1   yes       6   5649.594208        1\n",
       "1  female   57     8.0     1   yes       6  11450.080047        1\n",
       "2    male   42    14.0     1   yes       6  27620.954924        1\n",
       "3  female   72     9.0     1   yes       6  10548.321218        1\n",
       "4  female   73     1.0     1   yes       8  14660.176281        1"
      ]
     },
     "execution_count": 166,
     "metadata": {},
     "output_type": "execute_result"
    }
   ],
   "source": [
    "x.head()"
   ]
  },
  {
   "cell_type": "code",
   "execution_count": 167,
   "metadata": {},
   "outputs": [],
   "source": [
    "x_train, x_test, y_train,y_test = train_test_split(x,y, test_size = 0.2, random_state=2)"
   ]
  },
  {
   "cell_type": "code",
   "execution_count": 168,
   "metadata": {},
   "outputs": [
    {
     "data": {
      "text/plain": [
       "OneHotEncoder()"
      ]
     },
     "execution_count": 168,
     "metadata": {},
     "output_type": "execute_result"
    }
   ],
   "source": [
    "ohe =OneHotEncoder()\n",
    "ohe.fit(x[['sex','farm','urban']])"
   ]
  },
  {
   "cell_type": "code",
   "execution_count": 169,
   "metadata": {},
   "outputs": [
    {
     "data": {
      "text/plain": [
       "[array(['female', 'male'], dtype=object),\n",
       " array([0, 1], dtype=int64),\n",
       " array(['no', 'yes'], dtype=object)]"
      ]
     },
     "execution_count": 169,
     "metadata": {},
     "output_type": "execute_result"
    }
   ],
   "source": [
    "ohe.categories_"
   ]
  },
  {
   "cell_type": "code",
   "execution_count": 170,
   "metadata": {},
   "outputs": [],
   "source": [
    "column_trans = make_column_transformer((OneHotEncoder(categories=ohe.categories_),['sex','farm','urban']), remainder = 'passthrough')"
   ]
  },
  {
   "cell_type": "code",
   "execution_count": 171,
   "metadata": {},
   "outputs": [],
   "source": [
    "pipe =make_pipeline(column_trans, regressor)"
   ]
  },
  {
   "cell_type": "code",
   "execution_count": 172,
   "metadata": {},
   "outputs": [
    {
     "data": {
      "text/plain": [
       "Pipeline(steps=[('columntransformer',\n",
       "                 ColumnTransformer(remainder='passthrough',\n",
       "                                   transformers=[('onehotencoder',\n",
       "                                                  OneHotEncoder(categories=[array(['female', 'male'], dtype=object),\n",
       "                                                                            array([0, 1], dtype=int64),\n",
       "                                                                            array(['no', 'yes'], dtype=object)]),\n",
       "                                                  ['sex', 'farm', 'urban'])])),\n",
       "                ('linearregression', LinearRegression())])"
      ]
     },
     "execution_count": 172,
     "metadata": {},
     "output_type": "execute_result"
    }
   ],
   "source": [
    "pipe.fit(x_train,y_train)"
   ]
  },
  {
   "cell_type": "code",
   "execution_count": 173,
   "metadata": {},
   "outputs": [
    {
     "data": {
      "text/plain": [
       "array([1966.93815215, 1768.01265806, 1148.39303916, ..., 2648.89375034,\n",
       "       1664.01063062, 2333.56051554])"
      ]
     },
     "execution_count": 173,
     "metadata": {},
     "output_type": "execute_result"
    }
   ],
   "source": [
    "y_pred = pipe.predict(x_test)\n",
    "y_pred"
   ]
  },
  {
   "cell_type": "code",
   "execution_count": 174,
   "metadata": {},
   "outputs": [
    {
     "data": {
      "text/plain": [
       "0.030260356380883646"
      ]
     },
     "execution_count": 174,
     "metadata": {},
     "output_type": "execute_result"
    }
   ],
   "source": [
    "# significantly low r2 score due to odd variables\n",
    "r2_score(y_test,y_pred)"
   ]
  },
  {
   "cell_type": "code",
   "execution_count": 175,
   "metadata": {},
   "outputs": [],
   "source": [
    "score = []\n",
    "for i in range(1000):\n",
    "    x_train, x_test, y_train,y_test = train_test_split(x,y, test_size = 0.2, random_state=i)\n",
    "    regressor = LinearRegression()\n",
    "    pipe =make_pipeline(column_trans, regressor)\n",
    "    pipe.fit(x_train,y_train)\n",
    "    y_pred = pipe.predict(x_test)\n",
    "    score.append(r2_score(y_test,y_pred))\n",
    "    "
   ]
  },
  {
   "cell_type": "code",
   "execution_count": 176,
   "metadata": {},
   "outputs": [
    {
     "data": {
      "text/plain": [
       "65"
      ]
     },
     "execution_count": 176,
     "metadata": {},
     "output_type": "execute_result"
    }
   ],
   "source": [
    "np.argmax(score)"
   ]
  },
  {
   "cell_type": "code",
   "execution_count": 177,
   "metadata": {},
   "outputs": [
    {
     "data": {
      "text/plain": [
       "0.05078287955406924"
      ]
     },
     "execution_count": 177,
     "metadata": {},
     "output_type": "execute_result"
    }
   ],
   "source": [
    "score[np.argmax(score)]"
   ]
  },
  {
   "cell_type": "code",
   "execution_count": 178,
   "metadata": {},
   "outputs": [
    {
     "data": {
      "text/plain": [
       "0.05078287955406924"
      ]
     },
     "execution_count": 178,
     "metadata": {},
     "output_type": "execute_result"
    }
   ],
   "source": [
    "x_train, x_test, y_train,y_test = train_test_split(x,y, test_size = 0.2, random_state=np.argmax(score))\n",
    "regressor = LinearRegression()\n",
    "pipe =make_pipeline(column_trans, regressor)\n",
    "pipe.fit(x_train,y_train)\n",
    "y_pred = pipe.predict(x_test)\n",
    "r2_score(y_test,y_pred)"
   ]
  },
  {
   "cell_type": "code",
   "execution_count": 179,
   "metadata": {},
   "outputs": [],
   "source": [
    "import pickle\n"
   ]
  },
  {
   "cell_type": "code",
   "execution_count": 180,
   "metadata": {},
   "outputs": [],
   "source": [
    "pickle.dump(pipe,open('linear_reg_model.pkl','wb') )"
   ]
  }
 ],
 "metadata": {
  "kernelspec": {
   "display_name": "Python 3.10.0 64-bit",
   "language": "python",
   "name": "python3"
  },
  "language_info": {
   "codemirror_mode": {
    "name": "ipython",
    "version": 3
   },
   "file_extension": ".py",
   "mimetype": "text/x-python",
   "name": "python",
   "nbconvert_exporter": "python",
   "pygments_lexer": "ipython3",
   "version": "3.10.0"
  },
  "orig_nbformat": 4,
  "vscode": {
   "interpreter": {
    "hash": "0d72b21489300652f2337cd7f80c57cc00ce6bbc92cf98d285c178d0a8ced433"
   }
  }
 },
 "nbformat": 4,
 "nbformat_minor": 2
}
